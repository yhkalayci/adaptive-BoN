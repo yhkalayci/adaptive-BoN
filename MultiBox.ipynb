{
 "cells": [
  {
   "cell_type": "code",
   "execution_count": 2,
   "id": "6d9ca16b",
   "metadata": {},
   "outputs": [],
   "source": [
    "import pandas as pd\n",
    "import numpy as np\n",
    "from matplotlib import pyplot as plt\n",
    "from scipy import stats\n",
    "import warnings"
   ]
  },
  {
   "cell_type": "code",
   "execution_count": 3,
   "id": "679131ca",
   "metadata": {},
   "outputs": [],
   "source": [
    "data_file_formats = [\n",
    "    (\"data/960_seed0_Bo120_qweninst_mistral/\", \"qwen_instruct_RM-Mistral-7B_prompt_\"),\n",
    "    (\"data/Bo120_Llama-3.1-8B-Instruct_RM-Mistral-7B/\", \"Llama-3.1-8B-Instruct_RM-Mistral-7B_prompt_\"),\n",
    "    (\"data/Bo120_Llama-3.2-3B-Instruct_RM-Mistral-7B/\", \"Llama-3.2-3B-Instruct_RM-Mistral-7B_prompt_\"),\n",
    "    (\"data/Bo120_Ministral-8B-Instruct-2410_RM-Mistral-7B/\", \"Ministral-8B-Instruct-2410_RM-Mistral-7B_prompt_\"),\n",
    "]"
   ]
  },
  {
   "cell_type": "code",
   "execution_count": 4,
   "id": "f20d10aa",
   "metadata": {},
   "outputs": [],
   "source": [
    "data = []\n",
    "prompt_size = 100\n",
    "for item in data_file_formats:\n",
    "    all_x = []\n",
    "    prefix = item[0] + item[1]\n",
    "    for i in range(prompt_size):\n",
    "        index = i\n",
    "        trajectories = []\n",
    "        try:\n",
    "            file_name = prefix + str(index).zfill(4) + \".json\"\n",
    "\n",
    "            import json\n",
    "            with open(file_name, \"r\") as f:\n",
    "                row = json.load(f)\n",
    "                \n",
    "                for x in row:\n",
    "                    trajectories.extend(x[\"trajectories\"])\n",
    "    #             prompt_data.append(trajectories)\n",
    "        except:\n",
    "            pass\n",
    "        \n",
    "        x = [y[\"score\"] for y in trajectories]\n",
    "        all_x.append(x)\n",
    "\n",
    "    df_real = pd.DataFrame(all_x)\n",
    "    df_real.shape\n",
    "    data.append(df_real)"
   ]
  },
  {
   "cell_type": "code",
   "execution_count": 19,
   "id": "8a3e798d",
   "metadata": {},
   "outputs": [
    {
     "name": "stdout",
     "output_type": "stream",
     "text": [
      "1 32\n",
      "2 35\n",
      "3 35\n"
     ]
    }
   ],
   "source": [
    "for j in range(len(data)):\n",
    "    for i in range(100):\n",
    "        if np.isnan(data[j].iloc[i][0]):\n",
    "            print(j, i)\n",
    "            break"
   ]
  },
  {
   "cell_type": "code",
   "execution_count": 5,
   "id": "d3acd6fc",
   "metadata": {},
   "outputs": [],
   "source": [
    "def get_cap_value(cdf, cost, estimated_max):\n",
    "    l = 0\n",
    "    u = 1e12\n",
    "    eps = 0.01*len(data)\n",
    "    for i in range(100):\n",
    "        m = (l+u)/2\n",
    "        if 1-cdf(m) < eps:\n",
    "            u = m\n",
    "        else:\n",
    "            l = m\n",
    "\n",
    "    exp_max = estimated_max\n",
    "    up = u\n",
    "    eps = 1e-2\n",
    "    tot = 0\n",
    "    tot_density = 0\n",
    "    while up > eps:\n",
    "        z = cdf(up*(1-eps))\n",
    "        dy = cdf(up) - z\n",
    "        up = up*(1-eps)\n",
    "        v = up/(up+exp_max)\n",
    "        tot += v*dy\n",
    "        tot_density += dy\n",
    "        if tot-tot_density*v >= cost:\n",
    "            return v\n",
    "    return 0\n",
    "\n",
    "def get_max_value(cdf):\n",
    "    l = 0\n",
    "    u = 1e12\n",
    "    eps = 0.01*len(data)\n",
    "    for i in range(100):\n",
    "        m = (l+u)/2\n",
    "        if 1-cdf(m) < eps:\n",
    "            u = m\n",
    "        else:\n",
    "            l = m\n",
    "    return u"
   ]
  },
  {
   "cell_type": "code",
   "execution_count": 58,
   "id": "1c817b40",
   "metadata": {},
   "outputs": [],
   "source": [
    "\n",
    "DISTRIBUTIONS_TO_TEST = {\n",
    "#     \"Gaussian (Normal)\": stats.norm,\n",
    "#     \"Exponential\": stats.expon,\n",
    "    \"Log-Normal\": stats.lognorm,\n",
    "#     \"Gamma\": stats.gamma,\n",
    "#     \"Beta\": stats.beta,\n",
    "#     \"Weibull\": stats.weibull_min, # or stats.weibull_max\n",
    "    \"Pareto\": stats.pareto\n",
    "}\n",
    "\n",
    "# --- Core Fitting Function ---\n",
    "\n",
    "def find_best_distribution(data, distributions=DISTRIBUTIONS_TO_TEST, use_aic_bic=True):\n",
    "    results = []\n",
    "    best_metric = np.inf\n",
    "    best_dist_name = None\n",
    "    best_params = None\n",
    "\n",
    "    # Ensure data is a numpy array\n",
    "    data = np.asarray(data)\n",
    "    n_data = len(data)\n",
    "\n",
    "    for name, distribution in distributions.items():\n",
    "        try:\n",
    "            with warnings.catch_warnings():\n",
    "                warnings.simplefilter(\"ignore\")\n",
    "                if name == \"Log-Normal\" or name == \"Pareto\":\n",
    "                    params = distribution.fit(data, floc=0)\n",
    "                else:\n",
    "                    params = distribution.fit(data)\n",
    "            ks_stat, ks_p_value = stats.kstest(data, distribution.name, args=params)\n",
    "\n",
    "            log_likelihood = np.sum(distribution.logpdf(data, *params))\n",
    "            k_params = len(params) # Number of parameters estimated\n",
    "            aic = 2 * k_params - 2 * log_likelihood\n",
    "            bic = k_params * np.log(n_data) - 2 * log_likelihood\n",
    "\n",
    "            # Store results\n",
    "            results.append({\n",
    "                \"Distribution\": name,\n",
    "                \"Parameters\": params,\n",
    "                \"KS Statistic (D)\": ks_stat,\n",
    "                \"KS p-value\": ks_p_value,\n",
    "                \"Log-Likelihood\": log_likelihood,\n",
    "                \"AIC\": aic,\n",
    "                \"BIC\": bic\n",
    "            })\n",
    "\n",
    "            # --- 4. Update Best Fit ---\n",
    "            current_metric = aic if use_aic_bic else ks_stat # Choose metric for ranking\n",
    "            if current_metric < best_metric:\n",
    "                best_metric = current_metric\n",
    "                best_dist_name = name\n",
    "                best_params = params\n",
    "\n",
    "        except Exception as e:\n",
    "            results.append({\n",
    "                \"Distribution\": name,\n",
    "                \"Parameters\": None,\n",
    "                \"KS Statistic (D)\": np.nan,\n",
    "                \"KS p-value\": np.nan,\n",
    "                \"Log-Likelihood\": np.nan,\n",
    "                \"AIC\": np.nan,\n",
    "                \"BIC\": np.nan\n",
    "            })\n",
    "\n",
    "    if not results:\n",
    "         return None, None, pd.DataFrame()\n",
    "\n",
    "    # Create DataFrame for nice output\n",
    "    results_df = pd.DataFrame(results)\n",
    "    results_df = results_df.sort_values(by=\"AIC\" if use_aic_bic else \"KS Statistic (D)\")\n",
    "\n",
    "    # Determine final best based on the chosen metric after processing all\n",
    "    if not results_df.empty:\n",
    "        best_row = results_df.iloc[0]\n",
    "        final_best_dist_name = best_row[\"Distribution\"]\n",
    "        final_best_params = best_row[\"Parameters\"]\n",
    "        best_fit_dist = DISTRIBUTIONS_TO_TEST[final_best_dist_name](*final_best_params)\n",
    "    else:\n",
    "        final_best_dist_name = None\n",
    "        final_best_params = None\n",
    "        best_fit_dist = None\n",
    "\n",
    "    return final_best_dist_name, final_best_params, results_df, best_fit_dist"
   ]
  },
  {
   "cell_type": "code",
   "execution_count": 112,
   "id": "f3c9fb5a",
   "metadata": {},
   "outputs": [
    {
     "data": {
      "text/plain": [
       "{'dist_name': 'Log-Normal',\n",
       " 'exp_score': 2884897.7057018704,\n",
       " 'open_count': [10, 63, 10, 135],\n",
       " 'score': 14.875,\n",
       " 'opt': 14.875,\n",
       " 'exp_opt': 2884897.7057018704,\n",
       " 'win_rate': 0.5,\n",
       " 'max_until': {'value': 14.875, 'generator': 3, 'index': 46},\n",
       " 'global_opt': {'value': 14.875, 'generator': 3, 'index': 46}}"
      ]
     },
     "execution_count": 112,
     "metadata": {},
     "output_type": "execute_result"
    }
   ],
   "source": [
    "def pandoras_box(data, costs):\n",
    "    n = np.min([d.shape[0] for d in data])\n",
    "    max_until = {\n",
    "        \"value\": -10,\n",
    "        \"generator\": 0,\n",
    "        \"index\": 0\n",
    "    }\n",
    "    m = len(data)\n",
    "    \n",
    "    min_open_count = 10\n",
    "    \n",
    "    open_count = [min_open_count for i in range(m)]\n",
    "    for i in range(m):\n",
    "        for j in range(min_open_count):\n",
    "            if data[i][j] > max_until[\"value\"]:\n",
    "                max_until = {\n",
    "                    \"value\": data[i][j],\n",
    "                    \"generator\": i,\n",
    "                    \"index\": j\n",
    "                }\n",
    "    \n",
    "    global_opt = {\n",
    "        \"value\": -10,\n",
    "        \"generator\": 0,\n",
    "        \"index\": 0\n",
    "    }\n",
    "    for i in range(m):\n",
    "        for j in range(data[i].shape[0]):\n",
    "            if data[i][j] > global_opt[\"value\"]:\n",
    "                global_opt = {\n",
    "                    \"value\": data[i][j],\n",
    "                    \"generator\": i,\n",
    "                    \"index\": j\n",
    "                }\n",
    "                \n",
    "    global_max = np.max([np.max(data[i]) for i in range(m)])\n",
    "    flag = True\n",
    "    while True:\n",
    "        cap_values = []\n",
    "        estimated_max = 0\n",
    "        \n",
    "        estimated_dists = []\n",
    "        \n",
    "        for i in range(m):\n",
    "            if open_count[i] == len(data[i]):\n",
    "                continue\n",
    "                \n",
    "            row = data[i]\n",
    "            \n",
    "            sample = np.exp(row[:open_count[i]+1])\n",
    "            eps = 1/n\n",
    "            multiplier = (1 + max((n/2-open_count[i])/(n/2),0))**3\n",
    "            sample = sample * multiplier\n",
    "    \n",
    "            dist_name, params, _, dist = find_best_distribution(sample)\n",
    "            \n",
    "            estimated_dists.append((dist, i))\n",
    "    \n",
    "            exp_max = get_max_value(dist.cdf)\n",
    "            estimated_max = max(exp_max, estimated_max)\n",
    "#             print(\"==>\", i, exp_max, dist_name, params, np.max(sample), open_count[i])\n",
    "        \n",
    "        for dist, i in estimated_dists:\n",
    "            c = get_cap_value(dist.cdf, costs[i], estimated_max)\n",
    "            cap_values.append((c, i))\n",
    "            \n",
    "        if len(cap_values) == 0:\n",
    "            break\n",
    "            \n",
    "        v = np.exp(max_until[\"value\"])\n",
    "        v = v/(v + estimated_max)\n",
    "        cap_values = sorted(cap_values, reverse=True)\n",
    "        \n",
    "        if cap_values[0][0] < v:\n",
    "            break\n",
    "        else:\n",
    "            i = cap_values[0][1]\n",
    "            if data[i][open_count[i]] > max_until[\"value\"]:\n",
    "                max_until[\"value\"] = data[i][open_count[i]]\n",
    "                max_until[\"generator\"] = i\n",
    "                max_until[\"index\"] = open_count[i] \n",
    "            \n",
    "            open_count[i] += 1\n",
    "            \n",
    "    return {\n",
    "        \"dist_name\": dist_name,\n",
    "        \"exp_score\": np.exp(max_until[\"value\"]),\n",
    "        \"open_count\": open_count,\n",
    "        \"score\": max_until[\"value\"],\n",
    "        \"opt\": global_max,\n",
    "        \"exp_opt\": np.exp(np.max(global_max)),\n",
    "        \"win_rate\": np.exp(max_until[\"value\"])/(np.exp(max_until[\"value\"]) + np.exp(global_max)),\n",
    "        \"max_until\": max_until,\n",
    "        \"global_opt\": global_opt\n",
    "    }\n",
    "    \n",
    "def call_pandoras_box(data, index, costs):\n",
    "    x = [np.array(df.iloc[index]) for df in data]\n",
    "#     for ar in x:\n",
    "#         np.random.shuffle(ar)\n",
    "    return pandoras_box(x, costs)\n",
    "\n",
    "call_pandoras_box(data, 3, [0.002, 0.002, 0.002, 0.002, 0.002])"
   ]
  },
  {
   "cell_type": "code",
   "execution_count": 133,
   "id": "76a5775d",
   "metadata": {},
   "outputs": [
    {
     "name": "stderr",
     "output_type": "stream",
     "text": [
      "100%|███████████████████████████████████████████████████████████████████████████████████████████████████████████████████████████████████████████████████████████████████████| 32/32 [04:00<00:00,  7.51s/it]\n"
     ]
    }
   ],
   "source": [
    "import tqdm\n",
    "outs = []\n",
    "# costs = [0.002, 0.002, 0.002, 0.002, 0.002] # -> good example\n",
    "# costs = [0.003, 0.003, 0.003, 0.003, 0.003] # -> good example\n",
    "# costs = [0.005, 0.005, 0.005, 0.005, 0.005] # -> good example\n",
    "# costs = [0.0015, 0.008, 0.003, 0.008, 0.005] # -> ok example\n",
    "# costs = [0.0001, 0.01, 0.003, 0.01, 0.005] # -> good example\n",
    "# costs = [0.0001, 0.02, 0.006, 0.02, 0.005] # -> ok example\n",
    "# costs = [0.0001, 0.02, 0.006, 0.02, 0.005] # -> ok example\n",
    "# costs = [0.00005, 0.03, 0.006, 0.03, 0.005] # -> ok example\n",
    "costs = [0.00001, 0.02, 0.002, 0.02, 0.005] # -> ok example\n",
    "for i in tqdm.tqdm(range(32)):\n",
    "    outs.append(call_pandoras_box(data, i, costs))"
   ]
  },
  {
   "cell_type": "code",
   "execution_count": 134,
   "id": "e16fe24b",
   "metadata": {},
   "outputs": [
    {
     "name": "stdout",
     "output_type": "stream",
     "text": [
      "[28, 28, 46, 43]\n"
     ]
    }
   ],
   "source": [
    "avg_open_counts = [ int(np.mean([item[\"open_count\"][i] for item in outs])) for i in range(4)]\n",
    "\n",
    "\n",
    "print(avg_open_counts)"
   ]
  },
  {
   "cell_type": "code",
   "execution_count": 135,
   "id": "57fd2035",
   "metadata": {},
   "outputs": [],
   "source": [
    "def performance_avg(index, open_counts):\n",
    "    x = [np.array(df.iloc[index]) for df in data]\n",
    "    m = -10\n",
    "    a = -10\n",
    "    for i in range(len(x)):\n",
    "        m = max(m, np.max(x[i]))\n",
    "        a = max(a, np.max(x[i][:open_counts[i]]))\n",
    "    return m, a, np.exp(a)/(np.exp(a) + np.exp(m))"
   ]
  },
  {
   "cell_type": "code",
   "execution_count": 136,
   "id": "32860786",
   "metadata": {},
   "outputs": [
    {
     "name": "stdout",
     "output_type": "stream",
     "text": [
      "0.36642741265573187 0.3593720495166236\n"
     ]
    }
   ],
   "source": [
    "win_rates = []\n",
    "for i in range(32):\n",
    "    out = performance_avg(i, avg_open_counts)\n",
    "    \n",
    "    win_rates.append(out[2])\n",
    "\n",
    "print(np.mean(win_rates), np.median(win_rates))"
   ]
  },
  {
   "cell_type": "code",
   "execution_count": 137,
   "id": "0e559e96",
   "metadata": {},
   "outputs": [
    {
     "name": "stdout",
     "output_type": "stream",
     "text": [
      "0.37704914117202365 0.3776530178433626\n"
     ]
    }
   ],
   "source": [
    "win_rates2 = []\n",
    "for i in range(32):\n",
    "    win_rates2.append(outs[i][\"win_rate\"])\n",
    "print(np.mean(win_rates2), np.median(win_rates2))"
   ]
  },
  {
   "cell_type": "code",
   "execution_count": 138,
   "id": "7289df3c",
   "metadata": {},
   "outputs": [
    {
     "name": "stdout",
     "output_type": "stream",
     "text": [
      "0.5 Log-Normal {'value': 8.4375, 'generator': 3, 'index': 21} {'value': 8.4375, 'generator': 3, 'index': 21}\n",
      "0.43014734858584286 Log-Normal {'value': 7.65625, 'generator': 3, 'index': 70} {'value': 7.9375, 'generator': 3, 'index': 104}\n",
      "0.2568319913875188 Pareto {'value': 10.4375, 'generator': 3, 'index': 2} {'value': 11.5, 'generator': 3, 'index': 359}\n",
      "0.5 Log-Normal {'value': 14.875, 'generator': 3, 'index': 46} {'value': 14.875, 'generator': 3, 'index': 46}\n",
      "0.33458944125318596 Log-Normal {'value': 9.4375, 'generator': 1, 'index': 23} {'value': 10.125, 'generator': 1, 'index': 80}\n",
      "0.19193278644723683 Pareto {'value': 6.5625, 'generator': 3, 'index': 8} {'value': 8.0, 'generator': 3, 'index': 331}\n",
      "0.2942149721629888 Log-Normal {'value': 8.0, 'generator': 3, 'index': 15} {'value': 8.875, 'generator': 3, 'index': 121}\n",
      "0.5 Log-Normal {'value': 11.125, 'generator': 1, 'index': 7} {'value': 11.125, 'generator': 1, 'index': 7}\n",
      "0.3629692055196168 Log-Normal {'value': 9.625, 'generator': 3, 'index': 0} {'value': 10.1875, 'generator': 3, 'index': 75}\n",
      "0.33458944125318596 Pareto {'value': 8.0625, 'generator': 1, 'index': 4} {'value': 8.75, 'generator': 1, 'index': 217}\n",
      "0.4225046348141882 Pareto {'value': 6.75, 'generator': 1, 'index': 13} {'value': 7.0625, 'generator': 3, 'index': 241}\n",
      "0.29421497216298875 Pareto {'value': 9.375, 'generator': 2, 'index': 25} {'value': 10.25, 'generator': 3, 'index': 278}\n",
      "0.334589441253186 Log-Normal {'value': 9.3125, 'generator': 3, 'index': 103} {'value': 10.0, 'generator': 3, 'index': 275}\n",
      "0.34864513533394575 Log-Normal {'value': 12.1875, 'generator': 3, 'index': 43} {'value': 12.8125, 'generator': 3, 'index': 333}\n",
      "0.5 Log-Normal {'value': 10.4375, 'generator': 3, 'index': 29} {'value': 10.4375, 'generator': 3, 'index': 29}\n",
      "0.48438008427698437 Log-Normal {'value': 5.625, 'generator': 3, 'index': 5} {'value': 5.6875, 'generator': 3, 'index': 205}\n",
      "0.24508501313237172 Log-Normal {'value': 6.71875, 'generator': 2, 'index': 9} {'value': 7.84375, 'generator': 1, 'index': 342}\n",
      "0.2365162364457076 Log-Normal {'value': 3.765625, 'generator': 0, 'index': 88} {'value': 4.9375, 'generator': 0, 'index': 427}\n",
      "0.47657965106367595 Pareto {'value': 7.3125, 'generator': 1, 'index': 8} {'value': 7.40625, 'generator': 1, 'index': 175}\n",
      "0.4687906266262437 Log-Normal {'value': 11.0, 'generator': 3, 'index': 84} {'value': 11.125, 'generator': 3, 'index': 172}\n",
      "0.29421497216298875 Pareto {'value': 6.25, 'generator': 3, 'index': 6} {'value': 7.125, 'generator': 3, 'index': 165}\n",
      "0.45326184801538616 Log-Normal {'value': 11.875, 'generator': 3, 'index': 39} {'value': 12.0625, 'generator': 3, 'index': 109}\n",
      "0.334589441253186 Log-Normal {'value': 11.1875, 'generator': 3, 'index': 19} {'value': 11.875, 'generator': 3, 'index': 96}\n",
      "0.18242552380635635 Log-Normal {'value': 8.0, 'generator': 3, 'index': 4} {'value': 9.5, 'generator': 3, 'index': 127}\n",
      "0.5 Log-Normal {'value': 10.9375, 'generator': 3, 'index': 84} {'value': 10.9375, 'generator': 3, 'index': 84}\n",
      "0.29421497216298875 Pareto {'value': 5.625, 'generator': 3, 'index': 6} {'value': 6.5, 'generator': 3, 'index': 115}\n",
      "0.5 Pareto {'value': 9.125, 'generator': 1, 'index': 6} {'value': 9.125, 'generator': 1, 'index': 6}\n",
      "0.2450850131323717 Pareto {'value': 4.28125, 'generator': 0, 'index': 70} {'value': 5.40625, 'generator': 3, 'index': 46}\n",
      "0.44552953503957277 Log-Normal {'value': 4.90625, 'generator': 3, 'index': 27} {'value': 5.125, 'generator': 1, 'index': 93}\n",
      "0.39233683016710835 Log-Normal {'value': 10.0625, 'generator': 1, 'index': 82} {'value': 10.5, 'generator': 1, 'index': 101}\n",
      "0.5 Log-Normal {'value': 12.9375, 'generator': 3, 'index': 99} {'value': 12.9375, 'generator': 3, 'index': 99}\n",
      "0.40733340004593016 Log-Normal {'value': 6.25, 'generator': 2, 'index': 65} {'value': 6.625, 'generator': 1, 'index': 234}\n"
     ]
    }
   ],
   "source": [
    "for item in outs:\n",
    "    print(item[\"win_rate\"], item[\"dist_name\"], item[\"max_until\"], item[\"global_opt\"])"
   ]
  },
  {
   "cell_type": "code",
   "execution_count": 148,
   "id": "463c47f0",
   "metadata": {},
   "outputs": [],
   "source": [
    "def plot_graph(df, index):\n",
    "    vals = np.exp(np.array(df.iloc[index]))\n",
    "\n",
    "    # Create figure and axes\n",
    "    fig, ax = plt.subplots(figsize=(8, 5))\n",
    "\n",
    "    # Plot histogram using Matplotlib - pass the NumPy array directly\n",
    "    ax.hist(vals, bins=100, color='skyblue', edgecolor='black')\n",
    "\n",
    "    # Set the y-axis scale to logarithmic *after* plotting\n",
    "    ax.set_yscale('log')\n",
    "\n",
    "    # Add titles and labels\n",
    "    ax.set_title(\"Matplotlib Histogram from NumPy Array (Log Y-axis)\")\n",
    "    ax.set_xlabel(\"Value\")\n",
    "    ax.set_ylabel(\"Frequency (log scale)\")\n",
    "\n",
    "    plt.tight_layout() # Adjust layout\n",
    "    plt.show()"
   ]
  },
  {
   "cell_type": "code",
   "execution_count": 149,
   "id": "56dffb60",
   "metadata": {},
   "outputs": [
    {
     "ename": "IndexError",
     "evalue": "list index out of range",
     "output_type": "error",
     "traceback": [
      "\u001b[0;31m---------------------------------------------------------------------------\u001b[0m",
      "\u001b[0;31mIndexError\u001b[0m                                Traceback (most recent call last)",
      "Cell \u001b[0;32mIn[149], line 1\u001b[0m\n\u001b[0;32m----> 1\u001b[0m plot_graph(\u001b[43mdata\u001b[49m\u001b[43m[\u001b[49m\u001b[38;5;241;43m4\u001b[39;49m\u001b[43m]\u001b[49m, \u001b[38;5;241m0\u001b[39m)\n",
      "\u001b[0;31mIndexError\u001b[0m: list index out of range"
     ]
    }
   ],
   "source": [
    "plot_graph(data[4], 0)"
   ]
  },
  {
   "cell_type": "code",
   "execution_count": 132,
   "id": "1fe9a0cc",
   "metadata": {},
   "outputs": [],
   "source": []
  },
  {
   "cell_type": "code",
   "execution_count": 142,
   "id": "ca6cae99",
   "metadata": {},
   "outputs": [
    {
     "data": {
      "image/png": "[encoded data removed]",
      "text/plain": [
       "<Figure size 1000x600 with 1 Axes>"
      ]
     },
     "metadata": {},
     "output_type": "display_data"
    }
   ],
   "source": [
    "i=0\n",
    "j=4\n",
    "params = stats.lognorm.fit(np.exp(np.array(data[i].iloc[j])))\n",
    "plot_graph_with_params(np.exp(np.array(data[i].iloc[j])), params[0], params[1], params[2])"
   ]
  },
  {
   "cell_type": "code",
   "execution_count": null,
   "id": "b9767b1a",
   "metadata": {},
   "outputs": [],
   "source": []
  },
  {
   "cell_type": "code",
   "execution_count": null,
   "id": "377d4781",
   "metadata": {},
   "outputs": [],
   "source": []
  },
  {
   "cell_type": "code",
   "execution_count": 7,
   "id": "818cfaef",
   "metadata": {},
   "outputs": [],
   "source": [
    "import numpy as np\n",
    "import matplotlib.pyplot as plt\n",
    "from scipy.stats import lognorm\n",
    "import pandas as pd # Import pandas for easy data handling\n",
    "\n",
    "def plot_graph_with_params(data, s, loc, scale, bins='auto', title='Histogram and Given Log-Normal Distribution'):\n",
    "    data = np.array(data)\n",
    "\n",
    "    # --- Plotting ---\n",
    "    plt.figure(figsize=(10, 6))\n",
    "\n",
    "    count, bins_edges, _ = plt.hist(data, bins=bins, density=True, alpha=0.6, color='skyblue', label='Data Histogram')\n",
    "    xmin, xmax = plt.xlim()\n",
    "    if xmax - xmin < 1e-6:\n",
    "        xmin = scale / 2 if scale > 0 else -1 # Adjust heuristics as needed\n",
    "        xmax = scale * 2 if scale > 0 else 1\n",
    "\n",
    "    x = np.linspace(xmin, xmax, 200) # Use more points for a smoother curve\n",
    "    pdf = lognorm.pdf(x, s=s, loc=loc, scale=scale)\n",
    "    plt.plot(x, pdf, 'r', linewidth=2, label=f'Given Log-Normal PDF\\n(s={s:.2f}, loc={loc:.2f}, scale={scale:.2f})')\n",
    "\n",
    "    # --- Customize Plot ---\n",
    "    plt.xlabel(\"Data Values\")\n",
    "    plt.ylabel(\"Density\")\n",
    "    plt.title(title)\n",
    "    plt.legend()\n",
    "    plt.grid(axis='y', alpha=0.75)\n",
    "    plt.xlim(xmin, xmax) # Ensure plot limits match the x-values used for PDF\n",
    "\n",
    "    # Display the plot\n",
    "    plt.show()"
   ]
  },
  {
   "cell_type": "code",
   "execution_count": 128,
   "id": "fdb6ce10",
   "metadata": {},
   "outputs": [],
   "source": [
    "import numpy as np\n",
    "import scipy.stats as stats\n",
    "import warnings\n",
    "import pandas as pd # For displaying results nicely\n",
    "\n",
    "# --- Distribution Definitions ---\n",
    "# Define distributions from scipy.stats we want to test.\n",
    "# The key is the name we want to use, the value is the scipy.stats object.\n",
    "DISTRIBUTIONS_TO_TEST = {\n",
    "#     \"Gaussian (Normal)\": stats.norm,\n",
    "    \"Exponential\": stats.expon,\n",
    "    \"Log-Normal\": stats.lognorm,\n",
    "    \"Gamma\": stats.gamma,\n",
    "    \"Beta\": stats.beta,\n",
    "    \"Weibull\": stats.weibull_min, # or stats.weibull_max\n",
    "}\n",
    "\n",
    "# --- Core Fitting Function ---\n",
    "\n",
    "def find_best_distribution(data, distributions=DISTRIBUTIONS_TO_TEST, use_aic_bic=True):\n",
    "    results = []\n",
    "    best_metric = np.inf\n",
    "    best_dist_name = None\n",
    "    best_params = None\n",
    "\n",
    "    # Ensure data is a numpy array\n",
    "    data = np.asarray(data)\n",
    "    n_data = len(data)\n",
    "\n",
    "    for name, distribution in distributions.items():\n",
    "        try:\n",
    "            with warnings.catch_warnings():\n",
    "                warnings.simplefilter(\"ignore\")\n",
    "                params = distribution.fit(data)\n",
    "            ks_stat, ks_p_value = stats.kstest(data, distribution.name, args=params)\n",
    "\n",
    "            log_likelihood = np.sum(distribution.logpdf(data, *params))\n",
    "            k_params = len(params) # Number of parameters estimated\n",
    "            aic = 2 * k_params - 2 * log_likelihood\n",
    "            bic = k_params * np.log(n_data) - 2 * log_likelihood\n",
    "\n",
    "            # Store results\n",
    "            results.append({\n",
    "                \"Distribution\": name,\n",
    "                \"Parameters\": params,\n",
    "                \"KS Statistic (D)\": ks_stat,\n",
    "                \"KS p-value\": ks_p_value,\n",
    "                \"Log-Likelihood\": log_likelihood,\n",
    "                \"AIC\": aic,\n",
    "                \"BIC\": bic\n",
    "            })\n",
    "\n",
    "            # --- 4. Update Best Fit ---\n",
    "            current_metric = aic if use_aic_bic else ks_stat # Choose metric for ranking\n",
    "            if current_metric < best_metric:\n",
    "                best_metric = current_metric\n",
    "                best_dist_name = name\n",
    "                best_params = params\n",
    "\n",
    "        except Exception as e:\n",
    "            results.append({\n",
    "                \"Distribution\": name,\n",
    "                \"Parameters\": None,\n",
    "                \"KS Statistic (D)\": np.nan,\n",
    "                \"KS p-value\": np.nan,\n",
    "                \"Log-Likelihood\": np.nan,\n",
    "                \"AIC\": np.nan,\n",
    "                \"BIC\": np.nan\n",
    "            })\n",
    "\n",
    "    if not results:\n",
    "         return None, None, pd.DataFrame()\n",
    "\n",
    "    # Create DataFrame for nice output\n",
    "    results_df = pd.DataFrame(results)\n",
    "    results_df = results_df.sort_values(by=\"AIC\" if use_aic_bic else \"KS Statistic (D)\")\n",
    "\n",
    "    # Determine final best based on the chosen metric after processing all\n",
    "    if not results_df.empty:\n",
    "        best_row = results_df.iloc[0]\n",
    "        final_best_dist_name = best_row[\"Distribution\"]\n",
    "        final_best_params = best_row[\"Parameters\"]\n",
    "    else:\n",
    "        final_best_dist_name = None\n",
    "        final_best_params = None\n",
    "\n",
    "    return final_best_dist_name, final_best_params, results_df"
   ]
  },
  {
   "cell_type": "code",
   "execution_count": 129,
   "id": "18b65696",
   "metadata": {},
   "outputs": [
    {
     "data": {
      "text/plain": [
       "('Beta',\n",
       " (0.5140859545900147,\n",
       "  36.62939072244354,\n",
       "  0.00298994585631306,\n",
       "  11357.123474848875),\n",
       "   Distribution                                         Parameters  \\\n",
       " 3         Beta  (0.5140859545900147, 36.62939072244354, 0.0029...   \n",
       " 2        Gamma  (0.5196689880017655, 0.00298994585631306, 268....   \n",
       " 4      Weibull  (0.6137103407306461, 0.00298994585631306, 143....   \n",
       " 1   Log-Normal  (1.8007826512005423, -0.5185498993633761, 50.6...   \n",
       " 0  Exponential         (0.0029899458563130603, 156.8153999061991)   \n",
       " \n",
       "    KS Statistic (D)    KS p-value  Log-Likelihood          AIC          BIC  \n",
       " 3          0.042780  5.114699e-01    -2085.958206  4179.916412  4195.460828  \n",
       " 2          0.033785  7.927213e-01    -2087.456600  4180.913201  4192.571513  \n",
       " 4          0.055229  2.141271e-01    -2094.754876  4195.509751  4207.168063  \n",
       " 1          0.081492  1.581420e-02    -2135.672959  4277.345917  4289.004230  \n",
       " 0          0.195905  1.399343e-12    -2179.824954  4363.649908  4371.422116  )"
      ]
     },
     "execution_count": 129,
     "metadata": {},
     "output_type": "execute_result"
    }
   ],
   "source": [
    "find_best_distribution(np.exp(np.array(data[0].iloc[0])))"
   ]
  },
  {
   "cell_type": "code",
   "execution_count": 7,
   "id": "f3cf8152",
   "metadata": {},
   "outputs": [
    {
     "data": {
      "text/plain": [
       "{'dist_name': 'Log-Normal',\n",
       " 'exp_score': 76.99573263552006,\n",
       " 'stop_time': 245,\n",
       " 'score': 4.34375,\n",
       " 'opt': 5.375,\n",
       " 'exp_opt': 215.9398723106141,\n",
       " 'win_rate': 0.26284183737131667}"
      ]
     },
     "execution_count": 7,
     "metadata": {},
     "output_type": "execute_result"
    }
   ],
   "source": [
    "def pandoras_box(data, cost):\n",
    "    n = data.shape[0]\n",
    "    max_until = 0\n",
    "    for i in range(30, n):\n",
    "        prefix = np.exp(data[:i+1])\n",
    "        max_until = np.max(prefix)\n",
    "        \n",
    "        # Being optimistic\n",
    "        sample = np.copy(prefix)\n",
    "        eps = 1/n\n",
    "        multiplier = 1+eps * max(n/2-i, 0)\n",
    "        sample = sample * multiplier\n",
    "        \n",
    "        \n",
    "        dist_name = \"Log-Normal\"\n",
    "        dist_class = stats.lognorm\n",
    "        params = dist_class.fit(sample, floc=0)\n",
    "        dist = dist_class(*params)\n",
    "        \n",
    "        exp_max = get_max_value(dist.cdf)\n",
    "        c = get_cap_value(dist.cdf, cost)\n",
    "        \n",
    "        v = max_until\n",
    "        v = v/(v + exp_max)\n",
    "        if c < v:\n",
    "            return {\n",
    "                \"dist_name\": dist_name,\n",
    "                \"exp_score\": max_until,\n",
    "                \"stop_time\": i+1, \n",
    "                \"score\": np.max(data[:i+1]),\n",
    "                \"opt\": np.max(data),\n",
    "                \"exp_opt\": np.exp(np.max(data)),\n",
    "                \"win_rate\": max_until/(max_until + np.exp(np.max(data)))\n",
    "            }\n",
    "    return {\n",
    "        \"dist_name\": dist_name,\n",
    "        \"exp_score\": max_until,\n",
    "        \"stop_time\": i+1, \n",
    "        \"score\": np.max(data[:i+1]),\n",
    "        \"opt\": np.max(data),\n",
    "        \"exp_opt\": np.exp(np.max(data)),\n",
    "        \"win_rate\": max_until/(max_until + np.exp(np.max(data)))\n",
    "    }\n",
    "\n",
    "pandoras_box(df_real.iloc[15], 1e-4)"
   ]
  },
  {
   "cell_type": "code",
   "execution_count": 8,
   "id": "4945e199",
   "metadata": {},
   "outputs": [
    {
     "name": "stderr",
     "output_type": "stream",
     "text": [
      "100%|███████████████████████████████████████████████████████████████████████████████████████████████████████████████████████| 100/100 [02:54<00:00,  1.74s/it]\n"
     ]
    }
   ],
   "source": [
    "np.random.seed(42)\n",
    "results = []\n",
    "import tqdm\n",
    "epoch = 1\n",
    "for e in range(epoch):\n",
    "    for i in tqdm.tqdm(range(100)):\n",
    "        d = np.array(df_real.iloc[i])\n",
    "#         np.random.shuffle(d)\n",
    "        out = pandoras_box(d, 1*1e-4)\n",
    "        results.append(out)\n",
    "#         print(i, out[\"dist_name\"])"
   ]
  },
  {
   "cell_type": "code",
   "execution_count": 9,
   "id": "78566c74",
   "metadata": {},
   "outputs": [
    {
     "data": {
      "text/plain": [
       "array([16, 20, 21, 24, 26, 41, 66, 70, 78, 80, 90, 95])"
      ]
     },
     "execution_count": 9,
     "metadata": {},
     "output_type": "execute_result"
    }
   ],
   "source": [
    "d = np.array([x[\"stop_time\"] for x in results])\n",
    "np.array(list(range(100)))[d>500]"
   ]
  },
  {
   "cell_type": "code",
   "execution_count": 10,
   "id": "32b2c581",
   "metadata": {},
   "outputs": [
    {
     "data": {
      "text/plain": [
       "<matplotlib.collections.PathCollection at 0x176e8b760>"
      ]
     },
     "execution_count": 10,
     "metadata": {},
     "output_type": "execute_result"
    },
    {
     "data": {
      "image/png": "[encoded data removed]",
      "text/plain": [
       "<Figure size 640x480 with 1 Axes>"
      ]
     },
     "metadata": {},
     "output_type": "display_data"
    }
   ],
   "source": [
    "plt.scatter([x[\"stop_time\"] for x in results], [x[\"win_rate\"] for x in results])"
   ]
  },
  {
   "cell_type": "code",
   "execution_count": 11,
   "id": "1ef87d8f",
   "metadata": {},
   "outputs": [
    {
     "data": {
      "image/png": "[encoded data removed]",
      "text/plain": [
       "<Figure size 640x480 with 1 Axes>"
      ]
     },
     "metadata": {},
     "output_type": "display_data"
    }
   ],
   "source": [
    "plt.hist([x[\"stop_time\"] for x in results],bins=30)\n",
    "plt.show()"
   ]
  },
  {
   "cell_type": "code",
   "execution_count": 12,
   "id": "b4eae159",
   "metadata": {},
   "outputs": [
    {
     "data": {
      "text/plain": [
       "(0.3873819386900119, 0.4301473485858429, 216.84)"
      ]
     },
     "execution_count": 12,
     "metadata": {},
     "output_type": "execute_result"
    }
   ],
   "source": [
    "np.mean([x[\"win_rate\"] for x in results]), np.median([x[\"win_rate\"] for x in results]), np.mean([x[\"stop_time\"] for x in results])"
   ]
  },
  {
   "cell_type": "code",
   "execution_count": 13,
   "id": "14b4c824",
   "metadata": {},
   "outputs": [
    {
     "data": {
      "text/plain": [
       "(array([ 1.,  0.,  0.,  1.,  0.,  0.,  1.,  0.,  0.,  2.,  2.,  5.,  2.,\n",
       "         5.,  4.,  2.,  2.,  5.,  1.,  3.,  2.,  2.,  3.,  4.,  1.,  5.,\n",
       "         4.,  5.,  3., 35.]),\n",
       " array([0.03963884, 0.05498421, 0.07032958, 0.08567496, 0.10102033,\n",
       "        0.1163657 , 0.13171107, 0.14705644, 0.16240182, 0.17774719,\n",
       "        0.19309256, 0.20843793, 0.2237833 , 0.23912868, 0.25447405,\n",
       "        0.26981942, 0.28516479, 0.30051016, 0.31585554, 0.33120091,\n",
       "        0.34654628, 0.36189165, 0.37723702, 0.3925824 , 0.40792777,\n",
       "        0.42327314, 0.43861851, 0.45396388, 0.46930926, 0.48465463,\n",
       "        0.5       ]),\n",
       " <BarContainer object of 30 artists>)"
      ]
     },
     "execution_count": 13,
     "metadata": {},
     "output_type": "execute_result"
    },
    {
     "data": {
      "image/png": "[encoded data removed]",
      "text/plain": [
       "<Figure size 640x480 with 1 Axes>"
      ]
     },
     "metadata": {},
     "output_type": "display_data"
    }
   ],
   "source": [
    "plt.hist([x[\"win_rate\"] for x in results], bins=30)"
   ]
  },
  {
   "cell_type": "code",
   "execution_count": 14,
   "id": "c4b29670",
   "metadata": {},
   "outputs": [
    {
     "name": "stdout",
     "output_type": "stream",
     "text": [
      "0.3688778550666523 0.3775406687981454\n"
     ]
    },
    {
     "data": {
      "text/plain": [
       "(array([ 2.,  0.,  1.,  1.,  1.,  2.,  1.,  1.,  2.,  6.,  3.,  4.,  0.,\n",
       "         2.,  2.,  6.,  3.,  3.,  3.,  3.,  5.,  5.,  1.,  2.,  5.,  5.,\n",
       "         1.,  3.,  3., 24.]),\n",
       " array([0.10970577, 0.12271558, 0.13572539, 0.1487352 , 0.161745  ,\n",
       "        0.17475481, 0.18776462, 0.20077443, 0.21378423, 0.22679404,\n",
       "        0.23980385, 0.25281366, 0.26582346, 0.27883327, 0.29184308,\n",
       "        0.30485289, 0.31786269, 0.3308725 , 0.34388231, 0.35689212,\n",
       "        0.36990192, 0.38291173, 0.39592154, 0.40893135, 0.42194115,\n",
       "        0.43495096, 0.44796077, 0.46097058, 0.47398038, 0.48699019,\n",
       "        0.5       ]),\n",
       " <BarContainer object of 30 artists>)"
      ]
     },
     "execution_count": 14,
     "metadata": {},
     "output_type": "execute_result"
    },
    {
     "data": {
      "image/png": "[encoded data removed]",
      "text/plain": [
       "<Figure size 640x480 with 1 Axes>"
      ]
     },
     "metadata": {},
     "output_type": "display_data"
    }
   ],
   "source": [
    "wins = []\n",
    "for i in range(100):\n",
    "    d = np.exp(df_real.iloc[i])\n",
    "    v = np.max(d[:216])\n",
    "    m = np.max(d)\n",
    "    wins.append(v/(v+m))\n",
    "print(np.mean(wins), np.median(wins))\n",
    "plt.hist(wins, bins=30)"
   ]
  },
  {
   "cell_type": "code",
   "execution_count": 15,
   "id": "2ac80cbf",
   "metadata": {},
   "outputs": [
    {
     "data": {
      "text/plain": [
       "<matplotlib.collections.PathCollection at 0x335867520>"
      ]
     },
     "execution_count": 15,
     "metadata": {},
     "output_type": "execute_result"
    },
    {
     "data": {
      "image/png": "[encoded data removed]",
      "text/plain": [
       "<Figure size 640x480 with 1 Axes>"
      ]
     },
     "metadata": {},
     "output_type": "display_data"
    }
   ],
   "source": [
    "da = np.exp(np.array(df_real))\n",
    "dm = np.max(da, axis=1)\n",
    "wrs = []\n",
    "for i in range(800):\n",
    "    dv = np.max(da[:, :i+1], axis=1)\n",
    "    wr = np.mean(dv/(dv+dm))\n",
    "    \n",
    "    wrs.append(wr)\n",
    "plt.scatter(list(range(800)), wrs)"
   ]
  },
  {
   "cell_type": "code",
   "execution_count": null,
   "id": "4d78db0d",
   "metadata": {},
   "outputs": [],
   "source": []
  }
 ],
 "metadata": {
  "@webio": {
   "lastCommId": null,
   "lastKernelId": null
  },
  "kernelspec": {
   "display_name": "Python 3 (ipykernel)",
   "language": "python",
   "name": "python3"
  },
  "language_info": {
   "codemirror_mode": {
    "name": "ipython",
    "version": 3
   },
   "file_extension": ".py",
   "mimetype": "text/x-python",
   "name": "python",
   "nbconvert_exporter": "python",
   "pygments_lexer": "ipython3",
   "version": "3.13.1"
  }
 },
 "nbformat": 4,
 "nbformat_minor": 5
}
