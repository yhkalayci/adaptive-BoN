{
 "cells": [
  {
   "cell_type": "code",
   "execution_count": 1,
   "id": "6d9ca16b",
   "metadata": {},
   "outputs": [],
   "source": [
    "import pandas as pd\n",
    "import numpy as np\n",
    "from matplotlib import pyplot as plt\n",
    "from scipy import stats\n",
    "import warnings"
   ]
  },
  {
   "cell_type": "code",
   "execution_count": 2,
   "id": "322ce4bc",
   "metadata": {},
   "outputs": [],
   "source": [
    "data_file_formats = [\n",
    "    (\"data/960_seed0_Bo120_qweninst_mistral/\", \"qwen_instruct_RM-Mistral-7B_prompt_\"),\n",
    "    (\"data/Bo120_Llama-3.1-8B-Instruct_RM-Mistral-7B/\", \"Llama-3.1-8B-Instruct_RM-Mistral-7B_prompt_\"),\n",
    "    (\"data/Bo120_Llama-3.2-3B-Instruct_RM-Mistral-7B/\", \"Llama-3.2-3B-Instruct_RM-Mistral-7B_prompt_\"),\n",
    "    (\"data/Bo120_Ministral-8B-Instruct-2410_RM-Mistral-7B/\", \"Ministral-8B-Instruct-2410_RM-Mistral-7B_prompt_\"),\n",
    "]"
   ]
  },
  {
   "cell_type": "code",
   "execution_count": 3,
   "id": "c0190657",
   "metadata": {},
   "outputs": [],
   "source": [
    "data = []\n",
    "prompt_size = 100\n",
    "for item in data_file_formats:\n",
    "    all_x = []\n",
    "    prefix = item[0] + item[1]\n",
    "    for i in range(prompt_size):\n",
    "        index = i\n",
    "        trajectories = []\n",
    "        try:\n",
    "            file_name = prefix + str(index).zfill(4) + \".json\"\n",
    "\n",
    "            import json\n",
    "            with open(file_name, \"r\") as f:\n",
    "                row = json.load(f)\n",
    "                \n",
    "                for x in row:\n",
    "                    trajectories.extend(x[\"trajectories\"])\n",
    "    #             prompt_data.append(trajectories)\n",
    "        except:\n",
    "            pass\n",
    "        \n",
    "        x = [y[\"score\"] for y in trajectories]\n",
    "        all_x.append(x)\n",
    "\n",
    "    df_real = pd.DataFrame(all_x)\n",
    "    df_real.shape\n",
    "    data.append(df_real)"
   ]
  },
  {
   "cell_type": "code",
   "execution_count": null,
   "id": "d3acd6fc",
   "metadata": {},
   "outputs": [],
   "source": [
    "def get_cap_value(cdf, cost, estimated_max):\n",
    "    l = 0\n",
    "    u = 1e12\n",
    "    eps = 0.001\n",
    "    for i in range(100):\n",
    "        m = (l+u)/2\n",
    "        if 1-cdf(m) < eps:\n",
    "            u = m\n",
    "        else:\n",
    "            l = m\n",
    "\n",
    "    exp_max = estimated_max\n",
    "    up = u\n",
    "    eps = 1e-2\n",
    "    tot = 0\n",
    "    tot_density = 0\n",
    "    while up > eps:\n",
    "        z = cdf(up*(1-eps))\n",
    "        dy = cdf(up) - z\n",
    "        up = up*(1-eps)\n",
    "        v = up/(up+exp_max)\n",
    "        tot += v*dy\n",
    "        tot_density += dy\n",
    "        if tot-tot_density*v >= cost:\n",
    "            return v\n",
    "    return 0\n",
    "\n",
    "def get_max_value(cdf):\n",
    "    l = 0\n",
    "    u = 1e12\n",
    "    eps = 0.001\n",
    "    for i in range(100):\n",
    "        m = (l+u)/2\n",
    "        if 1-cdf(m) < eps:\n",
    "            u = m\n",
    "        else:\n",
    "            l = m\n",
    "    return u"
   ]
  },
  {
   "cell_type": "code",
   "execution_count": 5,
   "id": "818cfaef",
   "metadata": {},
   "outputs": [],
   "source": [
    "\n",
    "DISTRIBUTIONS_TO_TEST = {\n",
    "#     \"Gaussian (Normal)\": stats.norm,\n",
    "#     \"Exponential\": stats.expon,\n",
    "    \"Log-Normal\": stats.lognorm,\n",
    "#     \"Gamma\": stats.gamma,\n",
    "#     \"Beta\": stats.beta,\n",
    "#     \"Weibull\": stats.weibull_min, # or stats.weibull_max\n",
    "    \"Pareto\": stats.pareto\n",
    "}\n",
    "\n",
    "# --- Core Fitting Function ---\n",
    "\n",
    "def find_best_distribution(data, distributions=DISTRIBUTIONS_TO_TEST, use_aic_bic=True):\n",
    "    results = []\n",
    "    best_metric = np.inf\n",
    "    best_dist_name = None\n",
    "    best_params = None\n",
    "\n",
    "    # Ensure data is a numpy array\n",
    "    data = np.asarray(data)\n",
    "    n_data = len(data)\n",
    "\n",
    "    for name, distribution in distributions.items():\n",
    "        try:\n",
    "            with warnings.catch_warnings():\n",
    "                warnings.simplefilter(\"ignore\")\n",
    "                if name == \"Log-Normal\" or name == \"Pareto\":\n",
    "                    params = distribution.fit(data, floc=0)\n",
    "                else:\n",
    "                    params = distribution.fit(data)\n",
    "            ks_stat, ks_p_value = stats.kstest(data, distribution.name, args=params)\n",
    "\n",
    "            log_likelihood = np.sum(distribution.logpdf(data, *params))\n",
    "            k_params = len(params) # Number of parameters estimated\n",
    "            aic = 2 * k_params - 2 * log_likelihood\n",
    "            bic = k_params * np.log(n_data) - 2 * log_likelihood\n",
    "\n",
    "            # Store results\n",
    "            results.append({\n",
    "                \"Distribution\": name,\n",
    "                \"Parameters\": params,\n",
    "                \"KS Statistic (D)\": ks_stat,\n",
    "                \"KS p-value\": ks_p_value,\n",
    "                \"Log-Likelihood\": log_likelihood,\n",
    "                \"AIC\": aic,\n",
    "                \"BIC\": bic\n",
    "            })\n",
    "\n",
    "            # --- 4. Update Best Fit ---\n",
    "            current_metric = aic if use_aic_bic else ks_stat # Choose metric for ranking\n",
    "            if current_metric < best_metric:\n",
    "                best_metric = current_metric\n",
    "                best_dist_name = name\n",
    "                best_params = params\n",
    "\n",
    "        except Exception as e:\n",
    "            results.append({\n",
    "                \"Distribution\": name,\n",
    "                \"Parameters\": None,\n",
    "                \"KS Statistic (D)\": np.nan,\n",
    "                \"KS p-value\": np.nan,\n",
    "                \"Log-Likelihood\": np.nan,\n",
    "                \"AIC\": np.nan,\n",
    "                \"BIC\": np.nan\n",
    "            })\n",
    "\n",
    "    if not results:\n",
    "         return None, None, pd.DataFrame()\n",
    "\n",
    "    # Create DataFrame for nice output\n",
    "    results_df = pd.DataFrame(results)\n",
    "    results_df = results_df.sort_values(by=\"AIC\" if use_aic_bic else \"KS Statistic (D)\")\n",
    "\n",
    "    # Determine final best based on the chosen metric after processing all\n",
    "    if not results_df.empty:\n",
    "        best_row = results_df.iloc[0]\n",
    "        final_best_dist_name = best_row[\"Distribution\"]\n",
    "        final_best_params = best_row[\"Parameters\"]\n",
    "        best_fit_dist = DISTRIBUTIONS_TO_TEST[final_best_dist_name](*final_best_params)\n",
    "    else:\n",
    "        final_best_dist_name = None\n",
    "        final_best_params = None\n",
    "        best_fit_dist = None\n",
    "\n",
    "    return final_best_dist_name, final_best_params, results_df, best_fit_dist"
   ]
  },
  {
   "cell_type": "code",
   "execution_count": 8,
   "id": "f3cf8152",
   "metadata": {},
   "outputs": [],
   "source": [
    "def pandoras_box(data, costs):\n",
    "    n = np.min([d.shape[0] for d in data])\n",
    "    max_until = {\n",
    "        \"value\": -10,\n",
    "        \"generator\": 0,\n",
    "        \"index\": 0\n",
    "    }\n",
    "    m = len(data)\n",
    "    \n",
    "    min_open_count = 10\n",
    "    \n",
    "    open_count = [min_open_count for i in range(m)]\n",
    "    for i in range(m):\n",
    "        for j in range(min_open_count):\n",
    "            if data[i][j] > max_until[\"value\"]:\n",
    "                max_until = {\n",
    "                    \"value\": data[i][j],\n",
    "                    \"generator\": i,\n",
    "                    \"index\": j\n",
    "                }\n",
    "    \n",
    "    global_opt = {\n",
    "        \"value\": -10,\n",
    "        \"generator\": 0,\n",
    "        \"index\": 0\n",
    "    }\n",
    "    for i in range(m):\n",
    "        for j in range(data[i].shape[0]):\n",
    "            if data[i][j] > global_opt[\"value\"]:\n",
    "                global_opt = {\n",
    "                    \"value\": data[i][j],\n",
    "                    \"generator\": i,\n",
    "                    \"index\": j\n",
    "                }\n",
    "                \n",
    "    global_max = np.max([np.max(data[i]) for i in range(m)])\n",
    "    flag = True\n",
    "    while True:\n",
    "        cap_values = []\n",
    "        estimated_max = 0\n",
    "        \n",
    "        estimated_dists = []\n",
    "        \n",
    "        for i in range(m):\n",
    "            if open_count[i] == len(data[i]):\n",
    "                continue\n",
    "                \n",
    "            row = data[i]\n",
    "            \n",
    "            sample = np.exp(row[:open_count[i]+1])\n",
    "            eps = 1/n\n",
    "            multiplier = (1 + max((n/4-open_count[i])/(n/4),0))**3\n",
    "            sample = sample * multiplier\n",
    "    \n",
    "#             dist_name, params, _, dist = find_best_distribution(sample)\n",
    "            dist_name = \"Log-Normal\"\n",
    "            params = stats.lognorm.fit(sample, floc=0)\n",
    "            dist = stats.lognorm(*params)\n",
    "            \n",
    "            estimated_dists.append((dist, i))\n",
    "    \n",
    "            exp_max = get_max_value(dist.cdf)\n",
    "            estimated_max = max(exp_max, estimated_max)\n",
    "        \n",
    "        for dist, i in estimated_dists:\n",
    "            c = get_cap_value(dist.cdf, costs[i], estimated_max)\n",
    "            cap_values.append((c, i))\n",
    "            \n",
    "        if len(cap_values) == 0:\n",
    "            break\n",
    "            \n",
    "        v = np.exp(max_until[\"value\"])\n",
    "#         print(\"==>\", v, estimated_max)\n",
    "        \n",
    "        v = v/(v + estimated_max)\n",
    "        cap_values = sorted(cap_values, reverse=True)\n",
    "        \n",
    "#         print(v, cap_values[0], estimated_max, np.exp(global_opt[\"value\"]))\n",
    "        \n",
    "        if cap_values[0][0] < v:\n",
    "            break\n",
    "        else:\n",
    "            i = cap_values[0][1]\n",
    "            if data[i][open_count[i]] > max_until[\"value\"]:\n",
    "                max_until[\"value\"] = data[i][open_count[i]]\n",
    "                max_until[\"generator\"] = i\n",
    "                max_until[\"index\"] = open_count[i] \n",
    "            \n",
    "            open_count[i] += 1\n",
    "            \n",
    "    return {\n",
    "        \"dist_name\": dist_name,\n",
    "        \"exp_score\": np.exp(max_until[\"value\"]),\n",
    "        \"open_count\": open_count,\n",
    "        \"score\": max_until[\"value\"],\n",
    "        \"opt\": global_max,\n",
    "        \"exp_opt\": np.exp(np.max(global_max)),\n",
    "        \"win_rate\": np.exp(max_until[\"value\"])/(np.exp(max_until[\"value\"]) + np.exp(global_max)),\n",
    "        \"max_until\": max_until,\n",
    "        \"global_opt\": global_opt\n",
    "    }\n",
    "    \n",
    "def call_single_box_pandoras_box(df, index, cost):\n",
    "    x = [np.array(df.iloc[index])]\n",
    "    costs = [cost]\n",
    "    return pandoras_box(x, costs)"
   ]
  },
  {
   "cell_type": "code",
   "execution_count": 12,
   "id": "4945e199",
   "metadata": {},
   "outputs": [
    {
     "name": "stdout",
     "output_type": "stream",
     "text": [
      "0.05\n"
     ]
    },
    {
     "name": "stderr",
     "output_type": "stream",
     "text": [
      "100%|██████████| 100/100 [00:17<00:00,  5.65it/s]\n"
     ]
    },
    {
     "name": "stdout",
     "output_type": "stream",
     "text": [
      "0.15135746892616522 0.13213050767400503 13.1\n",
      "0.1523859524563399 0.11920292202211755\n",
      "0.04\n"
     ]
    },
    {
     "name": "stderr",
     "output_type": "stream",
     "text": [
      "100%|██████████| 100/100 [00:22<00:00,  4.41it/s]\n"
     ]
    },
    {
     "name": "stdout",
     "output_type": "stream",
     "text": [
      "0.17151930217999323 0.15103053298229968 15.29\n",
      "0.16181247144528726 0.13847231975815127\n",
      "0.03\n"
     ]
    },
    {
     "name": "stderr",
     "output_type": "stream",
     "text": [
      "100%|██████████| 100/100 [00:36<00:00,  2.77it/s]\n"
     ]
    },
    {
     "name": "stdout",
     "output_type": "stream",
     "text": [
      "0.1934840558585347 0.18477910298439149 20.43\n",
      "0.1829517276545762 0.16451646289656313\n",
      "0.02\n"
     ]
    },
    {
     "name": "stderr",
     "output_type": "stream",
     "text": [
      "100%|██████████| 100/100 [01:32<00:00,  1.08it/s]\n"
     ]
    },
    {
     "name": "stdout",
     "output_type": "stream",
     "text": [
      "0.24896938306634653 0.2407774880240356 40.12\n",
      "0.23123057263971433 0.2147031627020839\n",
      "0.01\n"
     ]
    },
    {
     "name": "stderr",
     "output_type": "stream",
     "text": [
      "100%|██████████| 100/100 [02:54<00:00,  1.74s/it]\n"
     ]
    },
    {
     "name": "stdout",
     "output_type": "stream",
     "text": [
      "0.31248081845580494 0.30735801686526387 79.52\n",
      "0.28817090640132975 0.28140560742914383\n",
      "0.009\n"
     ]
    },
    {
     "name": "stderr",
     "output_type": "stream",
     "text": [
      "100%|██████████| 100/100 [03:00<00:00,  1.81s/it]\n"
     ]
    },
    {
     "name": "stdout",
     "output_type": "stream",
     "text": [
      "0.31970363971593047 0.30735801686526387 84.8\n",
      "0.2926688342900768 0.2845867115950985\n",
      "0.008\n"
     ]
    },
    {
     "name": "stderr",
     "output_type": "stream",
     "text": [
      "100%|██████████| 100/100 [03:06<00:00,  1.87s/it]\n"
     ]
    },
    {
     "name": "stdout",
     "output_type": "stream",
     "text": [
      "0.3215973767025953 0.30735801686526387 89.83\n",
      "0.3027261035866097 0.29421497216298875\n",
      "0.007\n"
     ]
    },
    {
     "name": "stderr",
     "output_type": "stream",
     "text": [
      "100%|██████████| 100/100 [03:15<00:00,  1.96s/it]\n"
     ]
    },
    {
     "name": "stdout",
     "output_type": "stream",
     "text": [
      "0.32514220821170925 0.320821300824607 96.13\n",
      "0.30974989437482825 0.30735801686526387\n",
      "0.006\n"
     ]
    },
    {
     "name": "stderr",
     "output_type": "stream",
     "text": [
      "100%|██████████| 100/100 [03:20<00:00,  2.01s/it]\n"
     ]
    },
    {
     "name": "stdout",
     "output_type": "stream",
     "text": [
      "0.32790970613865367 0.3277053710388965 101.89\n",
      "0.31605700199503817 0.31070428092853564\n",
      "0.005\n"
     ]
    },
    {
     "name": "stderr",
     "output_type": "stream",
     "text": [
      "100%|██████████| 100/100 [03:25<00:00,  2.06s/it]\n"
     ]
    },
    {
     "name": "stdout",
     "output_type": "stream",
     "text": [
      "0.33699367541277225 0.3451138173861314 108.77\n",
      "0.31619822116473 0.31070428092853564\n",
      "0.004\n"
     ]
    },
    {
     "name": "stderr",
     "output_type": "stream",
     "text": [
      "100%|██████████| 100/100 [03:30<00:00,  2.10s/it]\n"
     ]
    },
    {
     "name": "stdout",
     "output_type": "stream",
     "text": [
      "0.34606806596089684 0.35577489351363034 116.32\n",
      "0.32670665053100933 0.334589441253186\n",
      "0.003\n"
     ]
    },
    {
     "name": "stderr",
     "output_type": "stream",
     "text": [
      "100%|██████████| 100/100 [03:38<00:00,  2.19s/it]\n"
     ]
    },
    {
     "name": "stdout",
     "output_type": "stream",
     "text": [
      "0.3472518227506387 0.3593720495166236 123.19\n",
      "0.33030087026237437 0.334589441253186\n",
      "0.002\n"
     ]
    },
    {
     "name": "stderr",
     "output_type": "stream",
     "text": [
      "100%|██████████| 100/100 [03:43<00:00,  2.24s/it]\n"
     ]
    },
    {
     "name": "stdout",
     "output_type": "stream",
     "text": [
      "0.3504800618568206 0.36296920551961676 135.48\n",
      "0.34463734372419635 0.3522100144237881\n",
      "0.001\n"
     ]
    },
    {
     "name": "stderr",
     "output_type": "stream",
     "text": [
      "100%|██████████| 100/100 [04:08<00:00,  2.48s/it]\n"
     ]
    },
    {
     "name": "stdout",
     "output_type": "stream",
     "text": [
      "0.36425644165940474 0.3775406687981454 167.81\n",
      "0.35445006816194513 0.36296920551961676\n",
      "0.0009\n"
     ]
    },
    {
     "name": "stderr",
     "output_type": "stream",
     "text": [
      "100%|██████████| 100/100 [04:08<00:00,  2.48s/it]\n"
     ]
    },
    {
     "name": "stdout",
     "output_type": "stream",
     "text": [
      "0.36425644165940474 0.3775406687981454 171.54\n",
      "0.35775993486811897 0.36296920551961687\n",
      "0.0008\n"
     ]
    },
    {
     "name": "stderr",
     "output_type": "stream",
     "text": [
      "100%|██████████| 100/100 [04:07<00:00,  2.47s/it]\n"
     ]
    },
    {
     "name": "stdout",
     "output_type": "stream",
     "text": [
      "0.3647987843953962 0.3775406687981454 174.29\n",
      "0.35994040204546457 0.37025493715888114\n",
      "0.0007\n"
     ]
    },
    {
     "name": "stderr",
     "output_type": "stream",
     "text": [
      "100%|██████████| 100/100 [04:04<00:00,  2.44s/it]\n"
     ]
    },
    {
     "name": "stdout",
     "output_type": "stream",
     "text": [
      "0.36774814975782844 0.3775406687981454 179.07\n",
      "0.3614022765205986 0.37025493715888114\n",
      "0.0006\n"
     ]
    },
    {
     "name": "stderr",
     "output_type": "stream",
     "text": [
      "100%|██████████| 100/100 [04:18<00:00,  2.59s/it]\n"
     ]
    },
    {
     "name": "stdout",
     "output_type": "stream",
     "text": [
      "0.37324754769412605 0.3775406687981454 190.48\n",
      "0.3640652129514582 0.3775406687981454\n",
      "0.0005\n"
     ]
    },
    {
     "name": "stderr",
     "output_type": "stream",
     "text": [
      "100%|██████████| 100/100 [04:21<00:00,  2.62s/it]\n"
     ]
    },
    {
     "name": "stdout",
     "output_type": "stream",
     "text": [
      "0.37967523229939076 0.3849121444839335 197.67\n",
      "0.36479680367797035 0.3775406687981454\n",
      "0.0004\n"
     ]
    },
    {
     "name": "stderr",
     "output_type": "stream",
     "text": [
      "100%|██████████| 100/100 [04:23<00:00,  2.64s/it]\n"
     ]
    },
    {
     "name": "stdout",
     "output_type": "stream",
     "text": [
      "0.38213608364920476 0.3849121444839335 205.77\n",
      "0.36500813695265 0.3775406687981454\n",
      "0.0003\n"
     ]
    },
    {
     "name": "stderr",
     "output_type": "stream",
     "text": [
      "100%|██████████| 100/100 [04:23<00:00,  2.63s/it]\n"
     ]
    },
    {
     "name": "stdout",
     "output_type": "stream",
     "text": [
      "0.38267693648827683 0.3849121444839335 210.95\n",
      "0.36741923201457 0.3775406687981454\n",
      "0.0002\n"
     ]
    },
    {
     "name": "stderr",
     "output_type": "stream",
     "text": [
      "100%|██████████| 100/100 [04:26<00:00,  2.66s/it]\n"
     ]
    },
    {
     "name": "stdout",
     "output_type": "stream",
     "text": [
      "0.3885222291620268 0.41111612292134947 225.23\n",
      "0.373048144474134 0.3849121444839335\n",
      "0.0001\n"
     ]
    },
    {
     "name": "stderr",
     "output_type": "stream",
     "text": [
      "100%|██████████| 100/100 [04:29<00:00,  2.69s/it]"
     ]
    },
    {
     "name": "stdout",
     "output_type": "stream",
     "text": [
      "0.39506241368313355 0.4263259917000156 244.88\n",
      "0.37734586022074934 0.3849121444839335\n"
     ]
    },
    {
     "name": "stderr",
     "output_type": "stream",
     "text": [
      "\n"
     ]
    }
   ],
   "source": [
    "np.random.seed(42)\n",
    "\n",
    "for c in [0.05, 0.04, 0.03, 0.02, 0.010, 0.009, 0.008, 0.007, 0.006, 0.005, 0.004, 0.003, 0.002, 0.001, 0.0009, 0.0008, 0.0007, 0.0006, 0.0005, 0.0004, 0.0003, 0.0002, 0.0001]:\n",
    "    print(c)\n",
    "    generator_id = 0\n",
    "    results = []\n",
    "    import tqdm\n",
    "    epoch = 1\n",
    "    for e in range(epoch):\n",
    "        for i in tqdm.tqdm(range(100)):\n",
    "    #         d = np.array(df_real.iloc[i])\n",
    "    #         np.random.shuffle(d)\n",
    "            out = call_single_box_pandoras_box(data[generator_id], i, c)\n",
    "            results.append(out)\n",
    "            \n",
    "    avg_stop_time = int(np.mean([x[\"open_count\"][0] for x in results]))\n",
    "\n",
    "    print(np.mean([x[\"win_rate\"] for x in results]), np.median([x[\"win_rate\"] for x in results]), np.mean([x[\"open_count\"][0] for x in results]))\n",
    "    \n",
    "    wins = []\n",
    "    df_real = data[generator_id]\n",
    "    for i in range(100):\n",
    "        d = np.exp(df_real.iloc[i])\n",
    "        v = np.max(d[:avg_stop_time])\n",
    "        m = np.max(d)\n",
    "        wins.append(v/(v+m))\n",
    "    print(np.mean(wins), np.median(wins))\n",
    "    \n",
    "    with open(f\"res_{c}.json\", \"w\") as f:\n",
    "        json.dump(results, f)"
   ]
  },
  {
   "cell_type": "code",
   "execution_count": null,
   "id": "067aaee0",
   "metadata": {},
   "outputs": [
    {
     "name": "stdout",
     "output_type": "stream",
     "text": [
      "9e-05\n"
     ]
    },
    {
     "name": "stderr",
     "output_type": "stream",
     "text": [
      "100%|██████████| 100/100 [04:31<00:00,  2.71s/it]\n"
     ]
    },
    {
     "name": "stdout",
     "output_type": "stream",
     "text": [
      "0.39719695501180596 0.4301473485858429 248.19\n",
      "0.37807550379934696 0.3886244873255209\n",
      "8e-05\n"
     ]
    },
    {
     "name": "stderr",
     "output_type": "stream",
     "text": [
      "100%|██████████| 100/100 [04:29<00:00,  2.69s/it]\n"
     ]
    },
    {
     "name": "stdout",
     "output_type": "stream",
     "text": [
      "0.39719695501180596 0.4301473485858429 248.78\n",
      "0.37807550379934696 0.3886244873255209\n",
      "7e-05\n"
     ]
    },
    {
     "name": "stderr",
     "output_type": "stream",
     "text": [
      "100%|██████████| 100/100 [04:28<00:00,  2.69s/it]\n"
     ]
    },
    {
     "name": "stdout",
     "output_type": "stream",
     "text": [
      "0.39719695501180596 0.4301473485858429 249.39\n",
      "0.37807550379934696 0.3886244873255209\n",
      "6e-05\n"
     ]
    },
    {
     "name": "stderr",
     "output_type": "stream",
     "text": [
      " 20%|██        | 20/100 [00:42<02:59,  2.25s/it]"
     ]
    }
   ],
   "source": [
    "np.random.seed(42)\n",
    "\n",
    "for c in [0.00009, 0.00008, 0.00007, 0.00006, 0.00005, 0.00004, 0.00003, 0.00002, 0.00001]:\n",
    "    print(c)\n",
    "    generator_id = 0\n",
    "    results = []\n",
    "    import tqdm\n",
    "    epoch = 1\n",
    "    for e in range(epoch):\n",
    "        for i in tqdm.tqdm(range(100)):\n",
    "    #         d = np.array(df_real.iloc[i])\n",
    "    #         np.random.shuffle(d)\n",
    "            out = call_single_box_pandoras_box(data[generator_id], i, c)\n",
    "            results.append(out)\n",
    "            \n",
    "    avg_stop_time = int(np.mean([x[\"open_count\"][0] for x in results]))\n",
    "\n",
    "    print(np.mean([x[\"win_rate\"] for x in results]), np.median([x[\"win_rate\"] for x in results]), np.mean([x[\"open_count\"][0] for x in results]))\n",
    "    \n",
    "    wins = []\n",
    "    df_real = data[generator_id]\n",
    "    for i in range(100):\n",
    "        d = np.exp(df_real.iloc[i])\n",
    "        v = np.max(d[:avg_stop_time])\n",
    "        m = np.max(d)\n",
    "        wins.append(v/(v+m))\n",
    "    print(np.mean(wins), np.median(wins))\n",
    "    \n",
    "    with open(f\"res_{c}.json\", \"w\") as f:\n",
    "        json.dump(results, f)"
   ]
  },
  {
   "cell_type": "code",
   "execution_count": 187,
   "id": "78566c74",
   "metadata": {},
   "outputs": [
    {
     "data": {
      "text/plain": [
       "array([ 1,  2,  3,  4,  5,  6,  7,  8, 11, 12, 13, 15, 16, 17, 18, 20, 21,\n",
       "       22, 23, 24, 25, 26, 27, 28, 29, 30, 31, 32, 33, 34, 35, 36, 37, 38,\n",
       "       39, 40, 41, 42, 44, 45, 48, 49, 50, 53, 54, 55, 56, 59, 60, 62, 63,\n",
       "       64, 65, 66, 67, 68, 70, 71, 72, 73, 74, 76, 77, 78, 80, 81, 82, 83,\n",
       "       84, 85, 86, 87, 88, 89, 90, 91, 92, 93, 94, 95, 97, 98, 99])"
      ]
     },
     "execution_count": 187,
     "metadata": {},
     "output_type": "execute_result"
    }
   ],
   "source": [
    "d = np.array([x[\"open_count\"][0] for x in results])\n",
    "np.array(list(range(100)))[d>176]"
   ]
  },
  {
   "cell_type": "code",
   "execution_count": 188,
   "id": "32b2c581",
   "metadata": {},
   "outputs": [
    {
     "data": {
      "text/plain": [
       "<matplotlib.collections.PathCollection at 0x16d5ec3a0>"
      ]
     },
     "execution_count": 188,
     "metadata": {},
     "output_type": "execute_result"
    },
    {
     "data": {
      "image/png": "[encoded data removed]",
      "text/plain": [
       "<Figure size 640x480 with 1 Axes>"
      ]
     },
     "metadata": {},
     "output_type": "display_data"
    }
   ],
   "source": [
    "plt.scatter([x[\"open_count\"][0] for x in results], [x[\"win_rate\"] for x in results])"
   ]
  },
  {
   "cell_type": "code",
   "execution_count": 189,
   "id": "1ef87d8f",
   "metadata": {},
   "outputs": [
    {
     "data": {
      "image/png": "[encoded data removed]",
      "text/plain": [
       "<Figure size 640x480 with 1 Axes>"
      ]
     },
     "metadata": {},
     "output_type": "display_data"
    }
   ],
   "source": [
    "plt.hist([x[\"open_count\"][0] for x in results],bins=30)\n",
    "plt.show()"
   ]
  },
  {
   "cell_type": "code",
   "execution_count": 190,
   "id": "b4eae159",
   "metadata": {},
   "outputs": [
    {
     "data": {
      "text/plain": [
       "(0.4034264992315714, 0.43014734858584286, 272.62)"
      ]
     },
     "execution_count": 190,
     "metadata": {},
     "output_type": "execute_result"
    }
   ],
   "source": [
    "avg_stop_time = int(np.mean([x[\"open_count\"][0] for x in results]))\n",
    "\n",
    "np.mean([x[\"win_rate\"] for x in results]), np.median([x[\"win_rate\"] for x in results]), np.mean([x[\"open_count\"][0] for x in results])"
   ]
  },
  {
   "cell_type": "code",
   "execution_count": 191,
   "id": "14b4c824",
   "metadata": {},
   "outputs": [
    {
     "data": {
      "text/plain": [
       "(array([ 2.,  1.,  0.,  0.,  1.,  1.,  0.,  3.,  3.,  4.,  1.,  0.,  2.,\n",
       "         2.,  3.,  3.,  6.,  1.,  2.,  6.,  1.,  1.,  2.,  7.,  4.,  5.,\n",
       "         1.,  2.,  4., 32.]),\n",
       " array([0.1561049 , 0.16756807, 0.17903124, 0.19049441, 0.20195758,\n",
       "        0.21342075, 0.22488392, 0.23634709, 0.24781026, 0.25927343,\n",
       "        0.2707366 , 0.28219977, 0.29366294, 0.30512611, 0.31658928,\n",
       "        0.32805245, 0.33951562, 0.35097879, 0.36244196, 0.37390513,\n",
       "        0.3853683 , 0.39683147, 0.40829464, 0.41975781, 0.43122098,\n",
       "        0.44268415, 0.45414732, 0.46561049, 0.47707366, 0.48853683,\n",
       "        0.5       ]),\n",
       " <BarContainer object of 30 artists>)"
      ]
     },
     "execution_count": 191,
     "metadata": {},
     "output_type": "execute_result"
    },
    {
     "data": {
      "image/png": "[encoded data removed]",
      "text/plain": [
       "<Figure size 640x480 with 1 Axes>"
      ]
     },
     "metadata": {},
     "output_type": "display_data"
    }
   ],
   "source": [
    "plt.hist([x[\"win_rate\"] for x in results], bins=30)"
   ]
  },
  {
   "cell_type": "code",
   "execution_count": 192,
   "id": "c4b29670",
   "metadata": {},
   "outputs": [
    {
     "name": "stdout",
     "output_type": "stream",
     "text": [
      "0.38168248873007704 0.39983511510651926\n"
     ]
    },
    {
     "data": {
      "text/plain": [
       "(array([ 2.,  1.,  1.,  3.,  1.,  0.,  2.,  2.,  5.,  3.,  2.,  2.,  0.,\n",
       "         2.,  1.,  3.,  4.,  4.,  3.,  4.,  4.,  1.,  4.,  3.,  5.,  1.,\n",
       "         4.,  1.,  3., 29.]),\n",
       " array([0.13660839, 0.14872144, 0.1608345 , 0.17294755, 0.1850606 ,\n",
       "        0.19717366, 0.20928671, 0.22139977, 0.23351282, 0.24562587,\n",
       "        0.25773893, 0.26985198, 0.28196503, 0.29407809, 0.30619114,\n",
       "        0.3183042 , 0.33041725, 0.3425303 , 0.35464336, 0.36675641,\n",
       "        0.37886946, 0.39098252, 0.40309557, 0.41520862, 0.42732168,\n",
       "        0.43943473, 0.45154779, 0.46366084, 0.47577389, 0.48788695,\n",
       "        0.5       ]),\n",
       " <BarContainer object of 30 artists>)"
      ]
     },
     "execution_count": 192,
     "metadata": {},
     "output_type": "execute_result"
    },
    {
     "data": {
      "image/png": "[encoded data removed]",
      "text/plain": [
       "<Figure size 640x480 with 1 Axes>"
      ]
     },
     "metadata": {},
     "output_type": "display_data"
    }
   ],
   "source": [
    "wins = []\n",
    "df_real = data[generator_id]\n",
    "for i in range(100):\n",
    "    d = np.exp(df_real.iloc[i])\n",
    "    v = np.max(d[:avg_stop_time])\n",
    "    m = np.max(d)\n",
    "    wins.append(v/(v+m))\n",
    "print(np.mean(wins), np.median(wins))\n",
    "plt.hist(wins, bins=30)"
   ]
  },
  {
   "cell_type": "code",
   "execution_count": 152,
   "id": "2ac80cbf",
   "metadata": {},
   "outputs": [
    {
     "data": {
      "text/plain": [
       "<matplotlib.collections.PathCollection at 0x16d82bdc0>"
      ]
     },
     "execution_count": 152,
     "metadata": {},
     "output_type": "execute_result"
    },
    {
     "data": {
      "image/png": "[encoded data removed]",
      "text/plain": [
       "<Figure size 640x480 with 1 Axes>"
      ]
     },
     "metadata": {},
     "output_type": "display_data"
    }
   ],
   "source": [
    "da = np.exp(np.array(df_real))\n",
    "dm = np.max(da, axis=1)\n",
    "wrs = []\n",
    "for i in range(800):\n",
    "    dv = np.max(da[:, :i+1], axis=1)\n",
    "    wr = np.mean(dv/(dv+dm))\n",
    "    \n",
    "    wrs.append(wr)\n",
    "plt.scatter(list(range(800)), wrs)"
   ]
  },
  {
   "cell_type": "code",
   "execution_count": null,
   "id": "4d78db0d",
   "metadata": {},
   "outputs": [],
   "source": []
  },
  {
   "cell_type": "code",
   "execution_count": null,
   "id": "b20f73da",
   "metadata": {},
   "outputs": [],
   "source": []
  }
 ],
 "metadata": {
  "kernelspec": {
   "display_name": "Python 3 (ipykernel)",
   "language": "python",
   "name": "python3"
  },
  "language_info": {
   "codemirror_mode": {
    "name": "ipython",
    "version": 3
   },
   "file_extension": ".py",
   "mimetype": "text/x-python",
   "name": "python",
   "nbconvert_exporter": "python",
   "pygments_lexer": "ipython3",
   "version": "3.13.1"
  }
 },
 "nbformat": 4,
 "nbformat_minor": 5
}
